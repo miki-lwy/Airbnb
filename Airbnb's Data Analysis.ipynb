{
 "cells": [
  {
   "cell_type": "code",
   "execution_count": null,
   "metadata": {},
   "outputs": [],
   "source": [
    "import pandas as pd\n",
    "import numpy as np\n",
    "\n",
    "#Read all dataset of the project and cleaning data\n",
    "def read_file(filename):\n",
    "    file_name = 'New York/2019-09-12/{}.csv'.format(filename)\n",
    "    data = pd.read_csv(file_name, header = 0)\n",
    "    return pd.DataFrame(data)\n",
    "\n",
    "def convert_str_to_date(df, column):\n",
    "    return pd.to_datetime(df[column], format=\"%Y-%m-%d\")\n",
    "\n",
    "#Convert column type from string to numeric\n",
    "def convert_str_to_numeric(df, column):\n",
    "    df[column] = df[column].replace(r'[$,]', '', regex=True)\n",
    "    return pd.to_numeric(df[column],errors='coerce')"
   ]
  },
  {
   "cell_type": "code",
   "execution_count": 88,
   "metadata": {},
   "outputs": [
    {
     "name": "stderr",
     "output_type": "stream",
     "text": [
      "/Users/miki/anaconda3/lib/python3.7/site-packages/IPython/core/interactiveshell.py:3248: DtypeWarning: Columns (61,62,94,95) have mixed types. Specify dtype option on import or set low_memory=False.\n",
      "  if (await self.run_code(code, result,  async_=asy)):\n"
     ]
    }
   ],
   "source": [
    "# Read Detailed Calendar Data for listings \n",
    "calendar_data = read_file(\"calendar\")\n",
    "    \n",
    "calendar_data['date'] = convert_str_to_date(calendar_data, 'date')\n",
    "\n",
    "calendar_data['price'] = convert_str_to_numeric(calendar_data, 'price')\n",
    "\n",
    "calendar_data['adjusted_price'] = convert_str_to_numeric(calendar_data, 'adjusted_price')\n",
    "\n",
    "#Read Summary information and metrics for listings(good for visualisations).\n",
    "summary_listing_data = read_file(\"listings\")\n",
    "summary_listing_data['price'] = convert_str_to_numeric(summary_listing_data, 'price')\n",
    "\n",
    "#Read Detailed Listings data \n",
    "detailed_listing_data = read_file(\"detailed_listings\")\n",
    "detailed_listing_data['first_review'] = convert_str_to_date(detailed_listing_data, 'first_review')\n",
    "\n",
    "detailed_listing_data['last_review'] = convert_str_to_date(detailed_listing_data, 'last_review')\n",
    "\n",
    "detailed_listing_data.drop(['scrape_id', 'last_scraped', 'experiences_offered'], axis=1, inplace=True)\n",
    "\n",
    "# Read Detailed Review Data for listings\n",
    "#detailed_review_data = read_file(\"detailed_reviews\")\n",
    "#detailed_review_data['date'] = convert_str_to_date(detailed_review_data, 'date')\n",
    "\n",
    "# Read Detailed Review Data languages\n",
    "detailed_review_data = read_file(\"review_lang\")\n",
    "detailed_review_data['date'] = convert_str_to_date(detailed_review_data, 'date')\n",
    "detailed_review_data.dtypes\n",
    "\n"
   ]
  },
  {
   "cell_type": "code",
   "execution_count": null,
   "metadata": {},
   "outputs": [],
   "source": [
    "from langdetect import detect\n",
    "\n",
    "def detect_lang(sentence):\n",
    "    try:\n",
    "        return detect(sentence)\n",
    "    except:\n",
    "        return 'unknown'\n",
    "\n",
    "detailed_review_data['lang'] = detailed_review_data['comments'].apply(detect_lang)\n",
    "#detailed_review_data[detailed_review_data['lang']!=\"en\"]\n",
    "export_csv = detailed_review_data.to_csv(r'review_lang.csv')"
   ]
  },
  {
   "cell_type": "code",
   "execution_count": null,
   "metadata": {},
   "outputs": [],
   "source": [
    "# Conduct sentiment analysis on English review only\n",
    "from vaderSentiment.vaderSentiment import SentimentIntensityAnalyzer\n",
    "vader = SentimentIntensityAnalyzer()  \n",
    "\n",
    "def sentiment_analyzer_scores(sentence):  \n",
    "    score = vader.polarity_scores(sentence)\n",
    "    return score\n",
    "\n",
    "eng_review = detailed_review_data[detailed_review_data['lang']==\"en\"]\n",
    "\n",
    "eng_review['sentiment_score'] = eng_review['comments'].apply(sentiment_analyzer_scores)\n",
    "\n",
    "export_csv = eng_review.to_csv(r'review_sentiment_score.csv')"
   ]
  },
  {
   "cell_type": "code",
   "execution_count": 11,
   "metadata": {},
   "outputs": [
    {
     "data": {
      "text/plain": [
       "(38283, 2)"
      ]
     },
     "execution_count": 11,
     "metadata": {},
     "output_type": "execute_result"
    }
   ],
   "source": [
    "from ast import literal_eval\n",
    "\n",
    "# Retrieve only the overall review rating from the sentiment analyzer's results\n",
    "def get_overall_review_rating(sentiment_string):\n",
    "    comment_dict = literal_eval(sentiment_string)\n",
    "    return (comment_dict['compound'])\n",
    "    \n",
    "    \n",
    "review_with_sentiment = read_file(\"review_sentiment_score\")\n",
    "review_with_sentiment['overall_rating'] = review_with_sentiment['sentiment_score'].apply(get_overall_review_rating)\n",
    "\n",
    "simplified_review_with_sentiment_score = review_with_sentiment.groupby('listing_id')['overall_rating'].mean().reset_index()\n",
    "\n",
    "#review_with_sentiment[review_with_sentiment[\"overall_rating\"]==0]"
   ]
  },
  {
   "cell_type": "code",
   "execution_count": null,
   "metadata": {},
   "outputs": [],
   "source": [
    "# Select particular columns from detailed_listing_data \n",
    "simplified_listing_data = detailed_listing_data[['id', 'listing_url', 'name', 'host_id','host_is_superhost','neighbourhood','neighbourhood_cleansed','neighbourhood_group_cleansed','property_type','room_type', 'accommodates','bedrooms','amenities','price','weekly_price', 'monthly_price', 'security_deposit','cleaning_fee','extra_people','minimum_nights','maximum_nights','review_scores_rating','review_scores_accuracy','review_scores_cleanliness','review_scores_checkin','review_scores_communication','review_scores_location','review_scores_value','first_review','last_review','reviews_per_month']]\n",
    "\n",
    "simplified_listing_data['price'] = convert_str_to_numeric(simplified_listing_data, 'price')\n",
    "\n",
    "simplified_listing_data['weekly_price'] = convert_str_to_numeric(simplified_listing_data, 'weekly_price')\n",
    "\n",
    "simplified_listing_data['monthly_price'] = convert_str_to_numeric(simplified_listing_data, 'monthly_price')\n",
    "\n",
    "simplified_listing_data['security_deposit'] = convert_str_to_numeric(simplified_listing_data, 'security_deposit')\n",
    "\n",
    "simplified_listing_data['cleaning_fee'] = convert_str_to_numeric(simplified_listing_data, 'cleaning_fee')\n",
    "\n",
    "simplified_listing_data['extra_people'] = convert_str_to_numeric(simplified_listing_data, 'extra_people')\n",
    "\n",
    "# Add sentiment score from review data file into the simplified_listing_data \n",
    "import math\n",
    "merged = simplified_listing_data.merge(simplified_review_with_sentiment_score, left_on = 'id', right_on = 'listing_id', how='left')\n",
    "\n",
    "def get_final_rating(df):\n",
    "    review_score = df[0]\n",
    "    comment_score = df[1] \n",
    "    if (math.isnan(review_score) == False & (math.isnan(comment_score))):\n",
    "        return (review_score/100.0)\n",
    "\n",
    "merged['final_rating'] = merged[['review_scores_rating','overall_rating']].apply(get_final_rating, axis =1)\n",
    "\n",
    "#merged[merged['overall_rating'].isna()][['review_scores_rating','overall_rating', 'final_rating']][merged['final_rating'].notna()]\n",
    "\n",
    "# drop Null in final_rating column\n",
    "final_df = merged.dropna(subset=['final_rating'])\n",
    "final_df['kid_friendly'] = final_df['amenities'].str.contains('Family/kid friendly')\n",
    "\n",
    "export_csv = final_df.to_csv(r'airbnb_recommendation_final.csv')\n",
    "\n"
   ]
  },
  {
   "cell_type": "code",
   "execution_count": 24,
   "metadata": {},
   "outputs": [
    {
     "name": "stderr",
     "output_type": "stream",
     "text": [
      "/Users/miki/anaconda3/lib/python3.7/site-packages/ipykernel_launcher.py:12: SettingWithCopyWarning: \n",
      "A value is trying to be set on a copy of a slice from a DataFrame.\n",
      "Try using .loc[row_indexer,col_indexer] = value instead\n",
      "\n",
      "See the caveats in the documentation: http://pandas.pydata.org/pandas-docs/stable/indexing.html#indexing-view-versus-copy\n",
      "  if sys.path[0] == '':\n",
      "/Users/miki/anaconda3/lib/python3.7/site-packages/ipykernel_launcher.py:9: SettingWithCopyWarning: \n",
      "A value is trying to be set on a copy of a slice from a DataFrame.\n",
      "Try using .loc[row_indexer,col_indexer] = value instead\n",
      "\n",
      "See the caveats in the documentation: http://pandas.pydata.org/pandas-docs/stable/indexing.html#indexing-view-versus-copy\n",
      "  if __name__ == '__main__':\n",
      "/Users/miki/anaconda3/lib/python3.7/site-packages/pandas/core/frame.py:4025: SettingWithCopyWarning: \n",
      "A value is trying to be set on a copy of a slice from a DataFrame\n",
      "\n",
      "See the caveats in the documentation: http://pandas.pydata.org/pandas-docs/stable/indexing.html#indexing-view-versus-copy\n",
      "  return super(DataFrame, self).rename(**kwargs)\n",
      "/Users/miki/anaconda3/lib/python3.7/site-packages/ipykernel_launcher.py:24: SettingWithCopyWarning: \n",
      "A value is trying to be set on a copy of a slice from a DataFrame\n",
      "\n",
      "See the caveats in the documentation: http://pandas.pydata.org/pandas-docs/stable/indexing.html#indexing-view-versus-copy\n"
     ]
    }
   ],
   "source": [
    "detailed_listing_data = read_file(\"airbnb_recommendation_final\")\n",
    "\n",
    "# Further reduce unnecessary columns in airbnb_recommendation_final files\n",
    "second_listing_data = detailed_listing_data[['id', 'listing_url', 'name','neighbourhood_group_cleansed','property_type','room_type', 'accommodates','bedrooms','amenities','price', 'review_scores_rating','review_scores_accuracy','review_scores_cleanliness','review_scores_checkin','review_scores_communication','review_scores_location','review_scores_value','final_rating', 'kid_friendly', 'host_is_superhost']]\n",
    "\n",
    "# Remove records in which the price is 0\n",
    "simplified_listing_data = second_listing_data[second_listing_data['price'] != 0]\n",
    "\n",
    "simplified_listing_data['price'] = convert_str_to_numeric(simplified_listing_data, 'price')\n",
    "\n",
    "\"\"\"\n",
    "simplified_listing_data['weekly_price'] = convert_str_to_numeric(simplified_listing_data, 'weekly_price')\n",
    "\n",
    "simplified_listing_data['monthly_price'] = convert_str_to_numeric(simplified_listing_data, 'monthly_price')\n",
    "\n",
    "simplified_listing_data['security_deposit'] = convert_str_to_numeric(simplified_listing_data, 'security_deposit')\n",
    "\n",
    "simplified_listing_data['cleaning_fee'] = convert_str_to_numeric(simplified_listing_data, 'cleaning_fee')\n",
    "\n",
    "simplified_listing_data['extra_people'] = convert_str_to_numeric(simplified_listing_data, 'extra_people')\n",
    "\n",
    "\"\"\"\n",
    "simplified_listing_data.rename(columns={\"final_rating\": \"comment_rating\",\"neighbourhood_group_cleansed\": \"neighbourhood_group\" }, inplace = True)\n",
    "simplified_listing_data.sort_values(by='price', ascending=True, inplace = True)\n"
   ]
  },
  {
   "cell_type": "code",
   "execution_count": 25,
   "metadata": {
    "scrolled": false
   },
   "outputs": [
    {
     "data": {
      "text/markdown": [
       "## Airbnb Recommendation Services"
      ],
      "text/plain": [
       "<IPython.core.display.Markdown object>"
      ]
     },
     "metadata": {},
     "output_type": "display_data"
    },
    {
     "data": {
      "application/vnd.jupyter.widget-view+json": {
       "model_id": "407847d8d45d4b8b8c4a92a947d6cce7",
       "version_major": 2,
       "version_minor": 0
      },
      "text/plain": [
       "HBox(children=(Dropdown(description='Location: ', options=('ALL', 'Bronx', 'Brooklyn', 'Manhattan', 'Queens', …"
      ]
     },
     "metadata": {},
     "output_type": "display_data"
    },
    {
     "data": {
      "application/vnd.jupyter.widget-view+json": {
       "model_id": "3718753d50e64859804a589a7b7d0190",
       "version_major": 2,
       "version_minor": 0
      },
      "text/plain": [
       "HBox(children=(IntSlider(value=70, continuous_update=False, description='Review Score: ', min=20, style=Slider…"
      ]
     },
     "metadata": {},
     "output_type": "display_data"
    },
    {
     "data": {
      "application/vnd.jupyter.widget-view+json": {
       "model_id": "4d83f23d809244259816087e556a62d2",
       "version_major": 2,
       "version_minor": 0
      },
      "text/plain": [
       "Output(layout=Layout(overflow='scroll'))"
      ]
     },
     "metadata": {},
     "output_type": "display_data"
    }
   ],
   "source": [
    "# Airbnb Recommendation functions by Python widgets\n",
    "import ipywidgets as widgets\n",
    "from IPython.display import display\n",
    "\n",
    "ALL = 'ALL'\n",
    "def unique_sorted_values_plus_ALL(array):\n",
    "    unique = array.unique().tolist()\n",
    "    unique.sort()\n",
    "    unique.insert(0, ALL)\n",
    "    return unique\n",
    "\n",
    "dropdown_neighbourhood_group = widgets.Dropdown(options = unique_sorted_values_plus_ALL(simplified_listing_data.neighbourhood_group), description =\"Location: \")\n",
    "dropdown_room_type = widgets.Dropdown(options = unique_sorted_values_plus_ALL(simplified_listing_data.room_type), description =\"Room Type: \")\n",
    "style = {'description_width': 'initial'}\n",
    "slider_review_score = widgets.IntSlider(\n",
    "    value=70,\n",
    "    min=20,\n",
    "    max=100,\n",
    "    step=1,\n",
    "    description='Review Score: ',\n",
    "    disabled=False,\n",
    "    continuous_update=False,\n",
    "    orientation='horizontal',\n",
    "    readout=True,\n",
    "    readout_format='d',\n",
    "    style=style\n",
    ")\n",
    "#slider_review_score.style.handle_color = 'lightblue'\n",
    "\n",
    "checkbox_kid_friendly = widgets.Checkbox(\n",
    "    value=False,\n",
    "    description='Family/kid friendly ',\n",
    "    disabled=False\n",
    ")\n",
    "\n",
    "checkbox_superhost = widgets.Checkbox(\n",
    "    value=False,\n",
    "    description='Superhost ',\n",
    "    disabled=False\n",
    ")\n",
    "\n",
    "top = widgets.IntSlider(\n",
    "    value=25,\n",
    "    min=5,\n",
    "    max=100,\n",
    "    step=5,\n",
    "    description='Top: ',\n",
    "    disabled=False,\n",
    "    continuous_update=False,\n",
    "    orientation='horizontal',\n",
    "    readout=True,\n",
    "    readout_format='d'\n",
    ")\n",
    "#top.style.handle_color = 'lightblue'\n",
    "\n",
    "airbnb_recommendation_output = widgets.Output(layout=Layout(overflow= 'scroll'))\n",
    "\n",
    "\n",
    "def common_filtering(neighbourhood_group, room_type, review_score, kid_friendly, superhost, top):\n",
    "    airbnb_recommendation_output.clear_output()\n",
    "    simplified_listing_data.loc[simplified_listing_data['review_scores_rating'] >= review_score]\n",
    "    if (neighbourhood_group == ALL) & (room_type == ALL):\n",
    "        common_filter = simplified_listing_data\n",
    "    elif (neighbourhood_group == ALL):\n",
    "        common_filter = simplified_listing_data[(simplified_listing_data.room_type == room_type)]\n",
    "    elif (room_type == ALL):\n",
    "        common_filter = simplified_listing_data[(simplified_listing_data.neighbourhood_group == neighbourhood_group) ]\n",
    "    else:\n",
    "        common_filter = simplified_listing_data[(simplified_listing_data.room_type == room_type) & \n",
    "                                  (simplified_listing_data.neighbourhood_group == neighbourhood_group)]\n",
    "    if kid_friendly:\n",
    "        common_filter = common_filter[(common_filter['kid_friendly']==True)]\n",
    "        \n",
    "    if superhost:\n",
    "        common_filter = common_filter[(common_filter['host_is_superhost']=='t')]\n",
    "        \n",
    "    with airbnb_recommendation_output:\n",
    "        display(common_filter.sort_values(by=['review_scores_rating'], ascending=False).head(top))          \n",
    "                  \n",
    "def dropdown_neighbourhood_group_eventhandler(change):\n",
    "    common_filtering(change.new, dropdown_room_type.value, slider_review_score.value, checkbox_kid_friendly.value, checkbox_superhost.value, top.value)\n",
    "    \n",
    "def dropdown_room_type_eventhandler(change):\n",
    "    common_filtering(dropdown_neighbourhood_group.value, change.new, slider_review_score.value, checkbox_kid_friendly.value, checkbox_superhost.value, top.value)\n",
    "\n",
    "def slider_review_score_eventhandler(change):\n",
    "    common_filtering(dropdown_neighbourhood_group.value, dropdown_room_type.value, change.new, checkbox_kid_friendly.value, checkbox_superhost.value, top.value)\n",
    "\n",
    "def checkbox_kid_friendly_eventhandler(change):\n",
    "    common_filtering(dropdown_neighbourhood_group.value, dropdown_room_type.value, slider_review_score.value, change.new, checkbox_superhost.value, top.value)\n",
    "\n",
    "def checkbox_superhost_eventhandler(change):\n",
    "    common_filtering(dropdown_neighbourhood_group.value, dropdown_room_type.value, slider_review_score.value, checkbox_kid_friendly.value, change.new, top.value)\n",
    "                             \n",
    "def top_eventhandler(change):\n",
    "    common_filtering(dropdown_neighbourhood_group.value, dropdown_room_type.value, slider_review_score.value, checkbox_kid_friendly.value, checkbox_superhost.value, change.new)\n",
    "\n",
    "    \n",
    "dropdown_neighbourhood_group.observe(dropdown_neighbourhood_group_eventhandler, names='value')\n",
    "dropdown_room_type.observe(dropdown_room_type_eventhandler, names='value')\n",
    "slider_review_score.observe(slider_review_score_eventhandler, names='value')\n",
    "checkbox_kid_friendly.observe(checkbox_kid_friendly_eventhandler, names='value')\n",
    "checkbox_superhost.observe(checkbox_superhost_eventhandler, names='value')                            \n",
    "top.observe(top_eventhandler, names='value')\n",
    "\n",
    "input_widgets = widgets.HBox([dropdown_neighbourhood_group, dropdown_room_type, checkbox_kid_friendly])\n",
    "second_input_widgets = widgets.HBox([slider_review_score, top, checkbox_superhost])\n",
    "\n",
    "from IPython.display import display, Markdown\n",
    "display(Markdown(\"## Airbnb Recommendation Services\"))\n",
    "display(input_widgets)\n",
    "display(second_input_widgets)\n",
    "\n",
    "display(airbnb_recommendation_output)\n",
    "common_filtering(dropdown_neighbourhood_group.value, dropdown_room_type.value, slider_review_score.value, checkbox_kid_friendly.value, checkbox_superhost.value, top.value)\n"
   ]
  }
 ],
 "metadata": {
  "kernelspec": {
   "display_name": "Python 3",
   "language": "python",
   "name": "python3"
  },
  "language_info": {
   "codemirror_mode": {
    "name": "ipython",
    "version": 3
   },
   "file_extension": ".py",
   "mimetype": "text/x-python",
   "name": "python",
   "nbconvert_exporter": "python",
   "pygments_lexer": "ipython3",
   "version": "3.7.3"
  }
 },
 "nbformat": 4,
 "nbformat_minor": 2
}
