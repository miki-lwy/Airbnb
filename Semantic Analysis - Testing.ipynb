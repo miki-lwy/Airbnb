{
 "cells": [
  {
   "cell_type": "code",
   "execution_count": null,
   "metadata": {},
   "outputs": [],
   "source": [
    "import pandas as pd\n",
    "import numpy as np\n",
    "\n",
    "#Read all dataset of the project and cleaning data\n",
    "def read_file(filename):\n",
    "    file_name = 'New York/2019-09-12/{}.csv'.format(filename)\n",
    "    data = pd.read_csv(file_name, header = 0)\n",
    "    return pd.DataFrame(data)\n",
    "\n",
    "def convert_str_to_date(df, column):\n",
    "    return pd.to_datetime(df[column], format=\"%Y-%m-%d\")\n"
   ]
  },
  {
   "cell_type": "code",
   "execution_count": null,
   "metadata": {},
   "outputs": [],
   "source": [
    "#Testing: nltk \n",
    "#Conclusion: nltk cannot parse Emojis\n",
    "\n",
    "from nltk.sentiment.vader import SentimentIntensityAnalyzer\n",
    "vader = SentimentIntensityAnalyzer()\n",
    "vader.polarity_scores(\"This was the best idea I've had in a long time.\")\n",
    "vader.polarity_scores(\"This was the BEST idea I've had in a long time.\")\n",
    "vader.polarity_scores(\"This was the BEST idea I've had in a long time!\")\n",
    "vader.polarity_scores(\"This was the BEST idea I've had in a long time!!!\")\n",
    "vader.polarity_scores(\"This was the BEST BEST idea I've had in a long time!\")\n",
    "vader.polarity_scores(\"This was the worst idea I've had in a long time!\")\n",
    "vader.polarity_scores(\"The service here is extremely good\")\n",
    "vader.polarity_scores(\"The service here is marginally good\")\n",
    "print(sentiment_analyzer_scores('I am 😄 today'))\n",
    "print(sentiment_analyzer_scores('😊'))\n",
    "print(sentiment_analyzer_scores('☹️'))\n",
    "print(sentiment_analyzer_scores(\"Today SUX!\"))\n",
    "print(sentiment_analyzer_scores(\"Make sure you :) or :D today!\"))\n"
   ]
  },
  {
   "cell_type": "code",
   "execution_count": null,
   "metadata": {},
   "outputs": [],
   "source": [
    "#Testing: vaderSentiment \n",
    "#Conclusion: vaderSentiment can parse Emojis\n",
    "from vaderSentiment.vaderSentiment import SentimentIntensityAnalyzer\n",
    "vader = SentimentIntensityAnalyzer()  \n",
    "\n",
    "def sentiment_analyzer_scores(sentence):  \n",
    "    score = vader.polarity_scores(sentence)\n",
    "    print(\"{:-<40} {}\".format(sentence, str(score)))\n",
    "\n",
    "sentence = \"The reservation was canceled the day before arrival. This is an automated posting.\"\n",
    "print(sentiment_analyzer_scores(sentence))\n",
    "\n",
    "vader.polarity_scores(\"This was the best idea I've had in a long time.\")\n",
    "vader.polarity_scores(\"This was the BEST idea I've had in a long time.\")\n",
    "vader.polarity_scores(\"This was the BEST idea I've had in a long time!\")\n",
    "vader.polarity_scores(\"This was the BEST idea I've had in a long time!!!\")\n",
    "vader.polarity_scores(\"This was the BEST BEST idea I've had in a long time!\")\n",
    "vader.polarity_scores(\"This was the worst idea I've had in a long time!\")\n",
    "vader.polarity_scores(\"The service here is extremely good\")\n",
    "vader.polarity_scores(\"The service here is marginally good\")\n",
    "print(sentiment_analyzer_scores('I am 😄 today'))\n",
    "print(sentiment_analyzer_scores('😊'))\n",
    "print(sentiment_analyzer_scores('☹️'))\n",
    "print(sentiment_analyzer_scores(\"lisa is a wonderful, kind and thoughtful host.  the listing is 100% accurate -- there is an entire floor for the guest, with a full bath and kitchen area looking out over a leafy backyard.  everything i needed for my one month stay.\"))\n",
    "print(sentiment_analyzer_scores(\"Lisa was friendly, always willing to help, the floor we stayed in was bright, spacious and warm, so I recommend this place.\"))\n"
   ]
  },
  {
   "cell_type": "code",
   "execution_count": null,
   "metadata": {},
   "outputs": [],
   "source": [
    "#Testing: textblob and langdetect \n",
    "# Since some reviews are not in English, it's required to be translated first before conducting sentiment analysis\n",
    "from textblob import TextBlob\n",
    "from langdetect import detect\n",
    "\n",
    "sentence =\"Han sido unos días muy agradables. La casa está super bien comunicada. Cocina, lavabo y habitación \"\"privadas\"\" en la misma planta. Cuando estuvimos estaba a punto de reformar la cocina así que será aún mejor. Lisa es simpática y siempre está dispuesta a ayudar en todo lo que pueda.\"\n",
    "sentence = \"lisa is a wonderful, kind and thoughtful host.  the listing is 100% accurate -- there is an entire floor for the guest, with a full bath and kitchen area looking out over a leafy backyard.  everything i needed for my one month stay.\"\n",
    "\n",
    "en_blob = TextBlob(sentence)\n",
    "print(en_blob.translate(to ='en'))\n",
    "\n",
    "#en_blob = TextBlob(u\"Lisa était sympa, toujours prête à aider. L'étage dans lequel nous avons logé était lumineux,spacieux et bien chauffé. Je recommande ce logement.\")\n",
    "#en_blob.translate(to='en')"
   ]
  },
  {
   "cell_type": "code",
   "execution_count": null,
   "metadata": {},
   "outputs": [],
   "source": [
    "# Translate non-English review to English \n",
    "# Limitation: Google Translate only allows translating 5000 characters per day. There are 1,166,689 row in the file. Assuming each row contain 50 characters. That would be more than a 1000 days.\n",
    "from textblob import TextBlob\n",
    "from langdetect import detect\n",
    "import time\n",
    "\n",
    "detailed_review_data = read_file(\"review_lang\")\n",
    "detailed_review_data['date'] = convert_str_to_date(detailed_review_data, 'date')\n",
    "\n",
    "def review_translation(df):\n",
    "    language = df[0]\n",
    "    sentence = df[1] \n",
    "\n",
    "\n",
    "    if language not in (\"en\",\"unknown\"):\n",
    "        try:\n",
    "            time.sleep(20)\n",
    "            en_blob = TextBlob(sentence)\n",
    "            return (str(en_blob.translate(to ='en')))\n",
    "        except:\n",
    "            return sentence\n",
    "\n",
    "       \n",
    "#review_translation(detailed_review_data['comments'])\n",
    "\n",
    "def translation(df): \n",
    "    return df[['lang','comments']].apply(review_translation, axis=1)\n",
    "\n",
    "detailed_review_data['translated_review'] = translation(detailed_review_data)\n"
   ]
  }
 ],
 "metadata": {
  "kernelspec": {
   "display_name": "Python 3",
   "language": "python",
   "name": "python3"
  },
  "language_info": {
   "codemirror_mode": {
    "name": "ipython",
    "version": 3
   },
   "file_extension": ".py",
   "mimetype": "text/x-python",
   "name": "python",
   "nbconvert_exporter": "python",
   "pygments_lexer": "ipython3",
   "version": "3.7.3"
  }
 },
 "nbformat": 4,
 "nbformat_minor": 2
}
